{
 "cells": [
  {
   "cell_type": "code",
   "execution_count": 1,
   "id": "cb6d83e1",
   "metadata": {
    "_cell_guid": "b1076dfc-b9ad-4769-8c92-a6c4dae69d19",
    "_uuid": "8f2839f25d086af736a60e9eeb907d3b93b6e0e5",
    "execution": {
     "iopub.execute_input": "2024-02-05T10:41:52.354888Z",
     "iopub.status.busy": "2024-02-05T10:41:52.354525Z",
     "iopub.status.idle": "2024-02-05T10:41:53.212516Z",
     "shell.execute_reply": "2024-02-05T10:41:53.211497Z"
    },
    "papermill": {
     "duration": 0.865948,
     "end_time": "2024-02-05T10:41:53.214503",
     "exception": false,
     "start_time": "2024-02-05T10:41:52.348555",
     "status": "completed"
    },
    "tags": []
   },
   "outputs": [
    {
     "name": "stdout",
     "output_type": "stream",
     "text": [
      "/kaggle/input/credit-card-transactions/fraudTest.csv\n",
      "/kaggle/input/credit-card-transactions/fraudTrain.csv\n"
     ]
    }
   ],
   "source": [
    "# This Python 3 environment comes with many helpful analytics libraries installed\n",
    "# It is defined by the kaggle/python Docker image: https://github.com/kaggle/docker-python\n",
    "# For example, here's several helpful packages to load\n",
    "\n",
    "import numpy as np # linear algebra\n",
    "import pandas as pd # data processing, CSV file I/O (e.g. pd.read_csv)\n",
    "\n",
    "# Input data files are available in the read-only \"../input/\" directory\n",
    "# For example, running this (by clicking run or pressing Shift+Enter) will list all files under the input directory\n",
    "\n",
    "import os\n",
    "for dirname, _, filenames in os.walk('/kaggle/input'):\n",
    "    for filename in filenames:\n",
    "        print(os.path.join(dirname, filename))\n",
    "\n",
    "# You can write up to 20GB to the current directory (/kaggle/working/) that gets preserved as output when you create a version using \"Save & Run All\" \n",
    "# You can also write temporary files to /kaggle/temp/, but they won't be saved outside of the current session"
   ]
  },
  {
   "cell_type": "code",
   "execution_count": 2,
   "id": "caed7037",
   "metadata": {
    "execution": {
     "iopub.execute_input": "2024-02-05T10:41:53.225227Z",
     "iopub.status.busy": "2024-02-05T10:41:53.224685Z",
     "iopub.status.idle": "2024-02-05T10:41:54.996481Z",
     "shell.execute_reply": "2024-02-05T10:41:54.995454Z"
    },
    "papermill": {
     "duration": 1.779754,
     "end_time": "2024-02-05T10:41:54.998835",
     "exception": false,
     "start_time": "2024-02-05T10:41:53.219081",
     "status": "completed"
    },
    "tags": []
   },
   "outputs": [],
   "source": [
    "\n",
    "import matplotlib.pyplot as plt\n",
    "import seaborn as sns\n",
    "import os\n",
    "from sklearn.model_selection import train_test_split\n",
    "from sklearn.preprocessing import StandardScaler, LabelEncoder\n",
    "from sklearn.linear_model import LogisticRegression\n",
    "from sklearn.metrics import accuracy_score, classification_report, confusion_matrix"
   ]
  },
  {
   "cell_type": "code",
   "execution_count": 3,
   "id": "357fcfd6",
   "metadata": {
    "execution": {
     "iopub.execute_input": "2024-02-05T10:41:55.009426Z",
     "iopub.status.busy": "2024-02-05T10:41:55.008920Z",
     "iopub.status.idle": "2024-02-05T10:42:05.758414Z",
     "shell.execute_reply": "2024-02-05T10:42:05.757236Z"
    },
    "papermill": {
     "duration": 10.757673,
     "end_time": "2024-02-05T10:42:05.760862",
     "exception": false,
     "start_time": "2024-02-05T10:41:55.003189",
     "status": "completed"
    },
    "tags": []
   },
   "outputs": [],
   "source": [
    "df=pd.read_csv('/kaggle/input/credit-card-transactions/fraudTrain.csv',parse_dates=['trans_date_trans_time',])"
   ]
  },
  {
   "cell_type": "code",
   "execution_count": 4,
   "id": "ba0e4b5e",
   "metadata": {
    "execution": {
     "iopub.execute_input": "2024-02-05T10:42:05.771156Z",
     "iopub.status.busy": "2024-02-05T10:42:05.770802Z",
     "iopub.status.idle": "2024-02-05T10:42:05.777900Z",
     "shell.execute_reply": "2024-02-05T10:42:05.777162Z"
    },
    "papermill": {
     "duration": 0.014317,
     "end_time": "2024-02-05T10:42:05.779547",
     "exception": false,
     "start_time": "2024-02-05T10:42:05.765230",
     "status": "completed"
    },
    "tags": []
   },
   "outputs": [
    {
     "data": {
      "text/plain": [
       "Index(['Unnamed: 0', 'trans_date_trans_time', 'cc_num', 'merchant', 'category',\n",
       "       'amt', 'first', 'last', 'gender', 'street', 'city', 'state', 'zip',\n",
       "       'lat', 'long', 'city_pop', 'job', 'dob', 'trans_num', 'unix_time',\n",
       "       'merch_lat', 'merch_long', 'is_fraud'],\n",
       "      dtype='object')"
      ]
     },
     "execution_count": 4,
     "metadata": {},
     "output_type": "execute_result"
    }
   ],
   "source": [
    "df.columns"
   ]
  },
  {
   "cell_type": "code",
   "execution_count": 5,
   "id": "2a6ea004",
   "metadata": {
    "execution": {
     "iopub.execute_input": "2024-02-05T10:42:05.790645Z",
     "iopub.status.busy": "2024-02-05T10:42:05.790010Z",
     "iopub.status.idle": "2024-02-05T10:42:06.275478Z",
     "shell.execute_reply": "2024-02-05T10:42:06.273968Z"
    },
    "papermill": {
     "duration": 0.493174,
     "end_time": "2024-02-05T10:42:06.277360",
     "exception": false,
     "start_time": "2024-02-05T10:42:05.784186",
     "status": "completed"
    },
    "tags": []
   },
   "outputs": [
    {
     "name": "stdout",
     "output_type": "stream",
     "text": [
      "<class 'pandas.core.frame.DataFrame'>\n",
      "RangeIndex: 1296675 entries, 0 to 1296674\n",
      "Data columns (total 23 columns):\n",
      " #   Column                 Non-Null Count    Dtype         \n",
      "---  ------                 --------------    -----         \n",
      " 0   Unnamed: 0             1296675 non-null  int64         \n",
      " 1   trans_date_trans_time  1296675 non-null  datetime64[ns]\n",
      " 2   cc_num                 1296675 non-null  int64         \n",
      " 3   merchant               1296675 non-null  object        \n",
      " 4   category               1296675 non-null  object        \n",
      " 5   amt                    1296675 non-null  float64       \n",
      " 6   first                  1296675 non-null  object        \n",
      " 7   last                   1296675 non-null  object        \n",
      " 8   gender                 1296675 non-null  object        \n",
      " 9   street                 1296675 non-null  object        \n",
      " 10  city                   1296675 non-null  object        \n",
      " 11  state                  1296675 non-null  object        \n",
      " 12  zip                    1296675 non-null  int64         \n",
      " 13  lat                    1296675 non-null  float64       \n",
      " 14  long                   1296675 non-null  float64       \n",
      " 15  city_pop               1296675 non-null  int64         \n",
      " 16  job                    1296675 non-null  object        \n",
      " 17  dob                    1296675 non-null  object        \n",
      " 18  trans_num              1296675 non-null  object        \n",
      " 19  unix_time              1296675 non-null  int64         \n",
      " 20  merch_lat              1296675 non-null  float64       \n",
      " 21  merch_long             1296675 non-null  float64       \n",
      " 22  is_fraud               1296675 non-null  int64         \n",
      "dtypes: datetime64[ns](1), float64(5), int64(6), object(11)\n",
      "memory usage: 227.5+ MB\n"
     ]
    }
   ],
   "source": [
    "df.info()"
   ]
  },
  {
   "cell_type": "code",
   "execution_count": 6,
   "id": "f72904ac",
   "metadata": {
    "execution": {
     "iopub.execute_input": "2024-02-05T10:42:06.287672Z",
     "iopub.status.busy": "2024-02-05T10:42:06.287332Z",
     "iopub.status.idle": "2024-02-05T10:42:06.795080Z",
     "shell.execute_reply": "2024-02-05T10:42:06.793610Z"
    },
    "papermill": {
     "duration": 0.515493,
     "end_time": "2024-02-05T10:42:06.797422",
     "exception": false,
     "start_time": "2024-02-05T10:42:06.281929",
     "status": "completed"
    },
    "tags": []
   },
   "outputs": [
    {
     "data": {
      "text/html": [
       "<div>\n",
       "<style scoped>\n",
       "    .dataframe tbody tr th:only-of-type {\n",
       "        vertical-align: middle;\n",
       "    }\n",
       "\n",
       "    .dataframe tbody tr th {\n",
       "        vertical-align: top;\n",
       "    }\n",
       "\n",
       "    .dataframe thead th {\n",
       "        text-align: right;\n",
       "    }\n",
       "</style>\n",
       "<table border=\"1\" class=\"dataframe\">\n",
       "  <thead>\n",
       "    <tr style=\"text-align: right;\">\n",
       "      <th></th>\n",
       "      <th>Unnamed: 0</th>\n",
       "      <th>trans_date_trans_time</th>\n",
       "      <th>cc_num</th>\n",
       "      <th>merchant</th>\n",
       "      <th>category</th>\n",
       "      <th>amt</th>\n",
       "      <th>first</th>\n",
       "      <th>last</th>\n",
       "      <th>gender</th>\n",
       "      <th>street</th>\n",
       "      <th>...</th>\n",
       "      <th>lat</th>\n",
       "      <th>long</th>\n",
       "      <th>city_pop</th>\n",
       "      <th>job</th>\n",
       "      <th>dob</th>\n",
       "      <th>trans_num</th>\n",
       "      <th>unix_time</th>\n",
       "      <th>merch_lat</th>\n",
       "      <th>merch_long</th>\n",
       "      <th>is_fraud</th>\n",
       "    </tr>\n",
       "  </thead>\n",
       "  <tbody>\n",
       "    <tr>\n",
       "      <th>0</th>\n",
       "      <td>False</td>\n",
       "      <td>False</td>\n",
       "      <td>False</td>\n",
       "      <td>False</td>\n",
       "      <td>False</td>\n",
       "      <td>False</td>\n",
       "      <td>False</td>\n",
       "      <td>False</td>\n",
       "      <td>False</td>\n",
       "      <td>False</td>\n",
       "      <td>...</td>\n",
       "      <td>False</td>\n",
       "      <td>False</td>\n",
       "      <td>False</td>\n",
       "      <td>False</td>\n",
       "      <td>False</td>\n",
       "      <td>False</td>\n",
       "      <td>False</td>\n",
       "      <td>False</td>\n",
       "      <td>False</td>\n",
       "      <td>False</td>\n",
       "    </tr>\n",
       "    <tr>\n",
       "      <th>1</th>\n",
       "      <td>False</td>\n",
       "      <td>False</td>\n",
       "      <td>False</td>\n",
       "      <td>False</td>\n",
       "      <td>False</td>\n",
       "      <td>False</td>\n",
       "      <td>False</td>\n",
       "      <td>False</td>\n",
       "      <td>False</td>\n",
       "      <td>False</td>\n",
       "      <td>...</td>\n",
       "      <td>False</td>\n",
       "      <td>False</td>\n",
       "      <td>False</td>\n",
       "      <td>False</td>\n",
       "      <td>False</td>\n",
       "      <td>False</td>\n",
       "      <td>False</td>\n",
       "      <td>False</td>\n",
       "      <td>False</td>\n",
       "      <td>False</td>\n",
       "    </tr>\n",
       "    <tr>\n",
       "      <th>2</th>\n",
       "      <td>False</td>\n",
       "      <td>False</td>\n",
       "      <td>False</td>\n",
       "      <td>False</td>\n",
       "      <td>False</td>\n",
       "      <td>False</td>\n",
       "      <td>False</td>\n",
       "      <td>False</td>\n",
       "      <td>False</td>\n",
       "      <td>False</td>\n",
       "      <td>...</td>\n",
       "      <td>False</td>\n",
       "      <td>False</td>\n",
       "      <td>False</td>\n",
       "      <td>False</td>\n",
       "      <td>False</td>\n",
       "      <td>False</td>\n",
       "      <td>False</td>\n",
       "      <td>False</td>\n",
       "      <td>False</td>\n",
       "      <td>False</td>\n",
       "    </tr>\n",
       "    <tr>\n",
       "      <th>3</th>\n",
       "      <td>False</td>\n",
       "      <td>False</td>\n",
       "      <td>False</td>\n",
       "      <td>False</td>\n",
       "      <td>False</td>\n",
       "      <td>False</td>\n",
       "      <td>False</td>\n",
       "      <td>False</td>\n",
       "      <td>False</td>\n",
       "      <td>False</td>\n",
       "      <td>...</td>\n",
       "      <td>False</td>\n",
       "      <td>False</td>\n",
       "      <td>False</td>\n",
       "      <td>False</td>\n",
       "      <td>False</td>\n",
       "      <td>False</td>\n",
       "      <td>False</td>\n",
       "      <td>False</td>\n",
       "      <td>False</td>\n",
       "      <td>False</td>\n",
       "    </tr>\n",
       "    <tr>\n",
       "      <th>4</th>\n",
       "      <td>False</td>\n",
       "      <td>False</td>\n",
       "      <td>False</td>\n",
       "      <td>False</td>\n",
       "      <td>False</td>\n",
       "      <td>False</td>\n",
       "      <td>False</td>\n",
       "      <td>False</td>\n",
       "      <td>False</td>\n",
       "      <td>False</td>\n",
       "      <td>...</td>\n",
       "      <td>False</td>\n",
       "      <td>False</td>\n",
       "      <td>False</td>\n",
       "      <td>False</td>\n",
       "      <td>False</td>\n",
       "      <td>False</td>\n",
       "      <td>False</td>\n",
       "      <td>False</td>\n",
       "      <td>False</td>\n",
       "      <td>False</td>\n",
       "    </tr>\n",
       "    <tr>\n",
       "      <th>...</th>\n",
       "      <td>...</td>\n",
       "      <td>...</td>\n",
       "      <td>...</td>\n",
       "      <td>...</td>\n",
       "      <td>...</td>\n",
       "      <td>...</td>\n",
       "      <td>...</td>\n",
       "      <td>...</td>\n",
       "      <td>...</td>\n",
       "      <td>...</td>\n",
       "      <td>...</td>\n",
       "      <td>...</td>\n",
       "      <td>...</td>\n",
       "      <td>...</td>\n",
       "      <td>...</td>\n",
       "      <td>...</td>\n",
       "      <td>...</td>\n",
       "      <td>...</td>\n",
       "      <td>...</td>\n",
       "      <td>...</td>\n",
       "      <td>...</td>\n",
       "    </tr>\n",
       "    <tr>\n",
       "      <th>1296670</th>\n",
       "      <td>False</td>\n",
       "      <td>False</td>\n",
       "      <td>False</td>\n",
       "      <td>False</td>\n",
       "      <td>False</td>\n",
       "      <td>False</td>\n",
       "      <td>False</td>\n",
       "      <td>False</td>\n",
       "      <td>False</td>\n",
       "      <td>False</td>\n",
       "      <td>...</td>\n",
       "      <td>False</td>\n",
       "      <td>False</td>\n",
       "      <td>False</td>\n",
       "      <td>False</td>\n",
       "      <td>False</td>\n",
       "      <td>False</td>\n",
       "      <td>False</td>\n",
       "      <td>False</td>\n",
       "      <td>False</td>\n",
       "      <td>False</td>\n",
       "    </tr>\n",
       "    <tr>\n",
       "      <th>1296671</th>\n",
       "      <td>False</td>\n",
       "      <td>False</td>\n",
       "      <td>False</td>\n",
       "      <td>False</td>\n",
       "      <td>False</td>\n",
       "      <td>False</td>\n",
       "      <td>False</td>\n",
       "      <td>False</td>\n",
       "      <td>False</td>\n",
       "      <td>False</td>\n",
       "      <td>...</td>\n",
       "      <td>False</td>\n",
       "      <td>False</td>\n",
       "      <td>False</td>\n",
       "      <td>False</td>\n",
       "      <td>False</td>\n",
       "      <td>False</td>\n",
       "      <td>False</td>\n",
       "      <td>False</td>\n",
       "      <td>False</td>\n",
       "      <td>False</td>\n",
       "    </tr>\n",
       "    <tr>\n",
       "      <th>1296672</th>\n",
       "      <td>False</td>\n",
       "      <td>False</td>\n",
       "      <td>False</td>\n",
       "      <td>False</td>\n",
       "      <td>False</td>\n",
       "      <td>False</td>\n",
       "      <td>False</td>\n",
       "      <td>False</td>\n",
       "      <td>False</td>\n",
       "      <td>False</td>\n",
       "      <td>...</td>\n",
       "      <td>False</td>\n",
       "      <td>False</td>\n",
       "      <td>False</td>\n",
       "      <td>False</td>\n",
       "      <td>False</td>\n",
       "      <td>False</td>\n",
       "      <td>False</td>\n",
       "      <td>False</td>\n",
       "      <td>False</td>\n",
       "      <td>False</td>\n",
       "    </tr>\n",
       "    <tr>\n",
       "      <th>1296673</th>\n",
       "      <td>False</td>\n",
       "      <td>False</td>\n",
       "      <td>False</td>\n",
       "      <td>False</td>\n",
       "      <td>False</td>\n",
       "      <td>False</td>\n",
       "      <td>False</td>\n",
       "      <td>False</td>\n",
       "      <td>False</td>\n",
       "      <td>False</td>\n",
       "      <td>...</td>\n",
       "      <td>False</td>\n",
       "      <td>False</td>\n",
       "      <td>False</td>\n",
       "      <td>False</td>\n",
       "      <td>False</td>\n",
       "      <td>False</td>\n",
       "      <td>False</td>\n",
       "      <td>False</td>\n",
       "      <td>False</td>\n",
       "      <td>False</td>\n",
       "    </tr>\n",
       "    <tr>\n",
       "      <th>1296674</th>\n",
       "      <td>False</td>\n",
       "      <td>False</td>\n",
       "      <td>False</td>\n",
       "      <td>False</td>\n",
       "      <td>False</td>\n",
       "      <td>False</td>\n",
       "      <td>False</td>\n",
       "      <td>False</td>\n",
       "      <td>False</td>\n",
       "      <td>False</td>\n",
       "      <td>...</td>\n",
       "      <td>False</td>\n",
       "      <td>False</td>\n",
       "      <td>False</td>\n",
       "      <td>False</td>\n",
       "      <td>False</td>\n",
       "      <td>False</td>\n",
       "      <td>False</td>\n",
       "      <td>False</td>\n",
       "      <td>False</td>\n",
       "      <td>False</td>\n",
       "    </tr>\n",
       "  </tbody>\n",
       "</table>\n",
       "<p>1296675 rows × 23 columns</p>\n",
       "</div>"
      ],
      "text/plain": [
       "         Unnamed: 0  trans_date_trans_time  cc_num  merchant  category    amt  \\\n",
       "0             False                  False   False     False     False  False   \n",
       "1             False                  False   False     False     False  False   \n",
       "2             False                  False   False     False     False  False   \n",
       "3             False                  False   False     False     False  False   \n",
       "4             False                  False   False     False     False  False   \n",
       "...             ...                    ...     ...       ...       ...    ...   \n",
       "1296670       False                  False   False     False     False  False   \n",
       "1296671       False                  False   False     False     False  False   \n",
       "1296672       False                  False   False     False     False  False   \n",
       "1296673       False                  False   False     False     False  False   \n",
       "1296674       False                  False   False     False     False  False   \n",
       "\n",
       "         first   last  gender  street  ...    lat   long  city_pop    job  \\\n",
       "0        False  False   False   False  ...  False  False     False  False   \n",
       "1        False  False   False   False  ...  False  False     False  False   \n",
       "2        False  False   False   False  ...  False  False     False  False   \n",
       "3        False  False   False   False  ...  False  False     False  False   \n",
       "4        False  False   False   False  ...  False  False     False  False   \n",
       "...        ...    ...     ...     ...  ...    ...    ...       ...    ...   \n",
       "1296670  False  False   False   False  ...  False  False     False  False   \n",
       "1296671  False  False   False   False  ...  False  False     False  False   \n",
       "1296672  False  False   False   False  ...  False  False     False  False   \n",
       "1296673  False  False   False   False  ...  False  False     False  False   \n",
       "1296674  False  False   False   False  ...  False  False     False  False   \n",
       "\n",
       "           dob  trans_num  unix_time  merch_lat  merch_long  is_fraud  \n",
       "0        False      False      False      False       False     False  \n",
       "1        False      False      False      False       False     False  \n",
       "2        False      False      False      False       False     False  \n",
       "3        False      False      False      False       False     False  \n",
       "4        False      False      False      False       False     False  \n",
       "...        ...        ...        ...        ...         ...       ...  \n",
       "1296670  False      False      False      False       False     False  \n",
       "1296671  False      False      False      False       False     False  \n",
       "1296672  False      False      False      False       False     False  \n",
       "1296673  False      False      False      False       False     False  \n",
       "1296674  False      False      False      False       False     False  \n",
       "\n",
       "[1296675 rows x 23 columns]"
      ]
     },
     "execution_count": 6,
     "metadata": {},
     "output_type": "execute_result"
    }
   ],
   "source": [
    "df.isnull()"
   ]
  },
  {
   "cell_type": "code",
   "execution_count": 7,
   "id": "0560411b",
   "metadata": {
    "execution": {
     "iopub.execute_input": "2024-02-05T10:42:06.808944Z",
     "iopub.status.busy": "2024-02-05T10:42:06.808504Z",
     "iopub.status.idle": "2024-02-05T10:42:06.833635Z",
     "shell.execute_reply": "2024-02-05T10:42:06.832501Z"
    },
    "papermill": {
     "duration": 0.033847,
     "end_time": "2024-02-05T10:42:06.836246",
     "exception": false,
     "start_time": "2024-02-05T10:42:06.802399",
     "status": "completed"
    },
    "tags": []
   },
   "outputs": [
    {
     "data": {
      "text/html": [
       "<div>\n",
       "<style scoped>\n",
       "    .dataframe tbody tr th:only-of-type {\n",
       "        vertical-align: middle;\n",
       "    }\n",
       "\n",
       "    .dataframe tbody tr th {\n",
       "        vertical-align: top;\n",
       "    }\n",
       "\n",
       "    .dataframe thead th {\n",
       "        text-align: right;\n",
       "    }\n",
       "</style>\n",
       "<table border=\"1\" class=\"dataframe\">\n",
       "  <thead>\n",
       "    <tr style=\"text-align: right;\">\n",
       "      <th></th>\n",
       "      <th>Unnamed: 0</th>\n",
       "      <th>trans_date_trans_time</th>\n",
       "      <th>cc_num</th>\n",
       "      <th>merchant</th>\n",
       "      <th>category</th>\n",
       "      <th>amt</th>\n",
       "      <th>first</th>\n",
       "      <th>last</th>\n",
       "      <th>gender</th>\n",
       "      <th>street</th>\n",
       "      <th>...</th>\n",
       "      <th>lat</th>\n",
       "      <th>long</th>\n",
       "      <th>city_pop</th>\n",
       "      <th>job</th>\n",
       "      <th>dob</th>\n",
       "      <th>trans_num</th>\n",
       "      <th>unix_time</th>\n",
       "      <th>merch_lat</th>\n",
       "      <th>merch_long</th>\n",
       "      <th>is_fraud</th>\n",
       "    </tr>\n",
       "  </thead>\n",
       "  <tbody>\n",
       "    <tr>\n",
       "      <th>0</th>\n",
       "      <td>0</td>\n",
       "      <td>2019-01-01 00:00:18</td>\n",
       "      <td>2703186189652095</td>\n",
       "      <td>fraud_Rippin, Kub and Mann</td>\n",
       "      <td>misc_net</td>\n",
       "      <td>4.97</td>\n",
       "      <td>Jennifer</td>\n",
       "      <td>Banks</td>\n",
       "      <td>F</td>\n",
       "      <td>561 Perry Cove</td>\n",
       "      <td>...</td>\n",
       "      <td>36.0788</td>\n",
       "      <td>-81.1781</td>\n",
       "      <td>3495</td>\n",
       "      <td>Psychologist, counselling</td>\n",
       "      <td>1988-03-09</td>\n",
       "      <td>0b242abb623afc578575680df30655b9</td>\n",
       "      <td>1325376018</td>\n",
       "      <td>36.011293</td>\n",
       "      <td>-82.048315</td>\n",
       "      <td>0</td>\n",
       "    </tr>\n",
       "    <tr>\n",
       "      <th>1</th>\n",
       "      <td>1</td>\n",
       "      <td>2019-01-01 00:00:44</td>\n",
       "      <td>630423337322</td>\n",
       "      <td>fraud_Heller, Gutmann and Zieme</td>\n",
       "      <td>grocery_pos</td>\n",
       "      <td>107.23</td>\n",
       "      <td>Stephanie</td>\n",
       "      <td>Gill</td>\n",
       "      <td>F</td>\n",
       "      <td>43039 Riley Greens Suite 393</td>\n",
       "      <td>...</td>\n",
       "      <td>48.8878</td>\n",
       "      <td>-118.2105</td>\n",
       "      <td>149</td>\n",
       "      <td>Special educational needs teacher</td>\n",
       "      <td>1978-06-21</td>\n",
       "      <td>1f76529f8574734946361c461b024d99</td>\n",
       "      <td>1325376044</td>\n",
       "      <td>49.159047</td>\n",
       "      <td>-118.186462</td>\n",
       "      <td>0</td>\n",
       "    </tr>\n",
       "    <tr>\n",
       "      <th>2</th>\n",
       "      <td>2</td>\n",
       "      <td>2019-01-01 00:00:51</td>\n",
       "      <td>38859492057661</td>\n",
       "      <td>fraud_Lind-Buckridge</td>\n",
       "      <td>entertainment</td>\n",
       "      <td>220.11</td>\n",
       "      <td>Edward</td>\n",
       "      <td>Sanchez</td>\n",
       "      <td>M</td>\n",
       "      <td>594 White Dale Suite 530</td>\n",
       "      <td>...</td>\n",
       "      <td>42.1808</td>\n",
       "      <td>-112.2620</td>\n",
       "      <td>4154</td>\n",
       "      <td>Nature conservation officer</td>\n",
       "      <td>1962-01-19</td>\n",
       "      <td>a1a22d70485983eac12b5b88dad1cf95</td>\n",
       "      <td>1325376051</td>\n",
       "      <td>43.150704</td>\n",
       "      <td>-112.154481</td>\n",
       "      <td>0</td>\n",
       "    </tr>\n",
       "    <tr>\n",
       "      <th>3</th>\n",
       "      <td>3</td>\n",
       "      <td>2019-01-01 00:01:16</td>\n",
       "      <td>3534093764340240</td>\n",
       "      <td>fraud_Kutch, Hermiston and Farrell</td>\n",
       "      <td>gas_transport</td>\n",
       "      <td>45.00</td>\n",
       "      <td>Jeremy</td>\n",
       "      <td>White</td>\n",
       "      <td>M</td>\n",
       "      <td>9443 Cynthia Court Apt. 038</td>\n",
       "      <td>...</td>\n",
       "      <td>46.2306</td>\n",
       "      <td>-112.1138</td>\n",
       "      <td>1939</td>\n",
       "      <td>Patent attorney</td>\n",
       "      <td>1967-01-12</td>\n",
       "      <td>6b849c168bdad6f867558c3793159a81</td>\n",
       "      <td>1325376076</td>\n",
       "      <td>47.034331</td>\n",
       "      <td>-112.561071</td>\n",
       "      <td>0</td>\n",
       "    </tr>\n",
       "    <tr>\n",
       "      <th>4</th>\n",
       "      <td>4</td>\n",
       "      <td>2019-01-01 00:03:06</td>\n",
       "      <td>375534208663984</td>\n",
       "      <td>fraud_Keeling-Crist</td>\n",
       "      <td>misc_pos</td>\n",
       "      <td>41.96</td>\n",
       "      <td>Tyler</td>\n",
       "      <td>Garcia</td>\n",
       "      <td>M</td>\n",
       "      <td>408 Bradley Rest</td>\n",
       "      <td>...</td>\n",
       "      <td>38.4207</td>\n",
       "      <td>-79.4629</td>\n",
       "      <td>99</td>\n",
       "      <td>Dance movement psychotherapist</td>\n",
       "      <td>1986-03-28</td>\n",
       "      <td>a41d7549acf90789359a9aa5346dcb46</td>\n",
       "      <td>1325376186</td>\n",
       "      <td>38.674999</td>\n",
       "      <td>-78.632459</td>\n",
       "      <td>0</td>\n",
       "    </tr>\n",
       "  </tbody>\n",
       "</table>\n",
       "<p>5 rows × 23 columns</p>\n",
       "</div>"
      ],
      "text/plain": [
       "   Unnamed: 0 trans_date_trans_time            cc_num  \\\n",
       "0           0   2019-01-01 00:00:18  2703186189652095   \n",
       "1           1   2019-01-01 00:00:44      630423337322   \n",
       "2           2   2019-01-01 00:00:51    38859492057661   \n",
       "3           3   2019-01-01 00:01:16  3534093764340240   \n",
       "4           4   2019-01-01 00:03:06   375534208663984   \n",
       "\n",
       "                             merchant       category     amt      first  \\\n",
       "0          fraud_Rippin, Kub and Mann       misc_net    4.97   Jennifer   \n",
       "1     fraud_Heller, Gutmann and Zieme    grocery_pos  107.23  Stephanie   \n",
       "2                fraud_Lind-Buckridge  entertainment  220.11     Edward   \n",
       "3  fraud_Kutch, Hermiston and Farrell  gas_transport   45.00     Jeremy   \n",
       "4                 fraud_Keeling-Crist       misc_pos   41.96      Tyler   \n",
       "\n",
       "      last gender                        street  ...      lat      long  \\\n",
       "0    Banks      F                561 Perry Cove  ...  36.0788  -81.1781   \n",
       "1     Gill      F  43039 Riley Greens Suite 393  ...  48.8878 -118.2105   \n",
       "2  Sanchez      M      594 White Dale Suite 530  ...  42.1808 -112.2620   \n",
       "3    White      M   9443 Cynthia Court Apt. 038  ...  46.2306 -112.1138   \n",
       "4   Garcia      M              408 Bradley Rest  ...  38.4207  -79.4629   \n",
       "\n",
       "   city_pop                                job         dob  \\\n",
       "0      3495          Psychologist, counselling  1988-03-09   \n",
       "1       149  Special educational needs teacher  1978-06-21   \n",
       "2      4154        Nature conservation officer  1962-01-19   \n",
       "3      1939                    Patent attorney  1967-01-12   \n",
       "4        99     Dance movement psychotherapist  1986-03-28   \n",
       "\n",
       "                          trans_num   unix_time  merch_lat  merch_long  \\\n",
       "0  0b242abb623afc578575680df30655b9  1325376018  36.011293  -82.048315   \n",
       "1  1f76529f8574734946361c461b024d99  1325376044  49.159047 -118.186462   \n",
       "2  a1a22d70485983eac12b5b88dad1cf95  1325376051  43.150704 -112.154481   \n",
       "3  6b849c168bdad6f867558c3793159a81  1325376076  47.034331 -112.561071   \n",
       "4  a41d7549acf90789359a9aa5346dcb46  1325376186  38.674999  -78.632459   \n",
       "\n",
       "   is_fraud  \n",
       "0         0  \n",
       "1         0  \n",
       "2         0  \n",
       "3         0  \n",
       "4         0  \n",
       "\n",
       "[5 rows x 23 columns]"
      ]
     },
     "execution_count": 7,
     "metadata": {},
     "output_type": "execute_result"
    }
   ],
   "source": [
    "df.head()"
   ]
  },
  {
   "cell_type": "code",
   "execution_count": 8,
   "id": "247ae5a5",
   "metadata": {
    "execution": {
     "iopub.execute_input": "2024-02-05T10:42:06.848359Z",
     "iopub.status.busy": "2024-02-05T10:42:06.848030Z",
     "iopub.status.idle": "2024-02-05T10:42:06.877198Z",
     "shell.execute_reply": "2024-02-05T10:42:06.876230Z"
    },
    "papermill": {
     "duration": 0.037817,
     "end_time": "2024-02-05T10:42:06.879464",
     "exception": false,
     "start_time": "2024-02-05T10:42:06.841647",
     "status": "completed"
    },
    "tags": []
   },
   "outputs": [
    {
     "data": {
      "text/plain": [
       "Unnamed: 0               7506\n",
       "trans_date_trans_time    7506\n",
       "cc_num                   7506\n",
       "merchant                 7506\n",
       "category                 7506\n",
       "amt                      7506\n",
       "first                    7506\n",
       "last                     7506\n",
       "gender                   7506\n",
       "street                   7506\n",
       "city                     7506\n",
       "state                    7506\n",
       "zip                      7506\n",
       "lat                      7506\n",
       "long                     7506\n",
       "city_pop                 7506\n",
       "job                      7506\n",
       "dob                      7506\n",
       "trans_num                7506\n",
       "unix_time                7506\n",
       "merch_lat                7506\n",
       "merch_long               7506\n",
       "is_fraud                 7506\n",
       "dtype: int64"
      ]
     },
     "execution_count": 8,
     "metadata": {},
     "output_type": "execute_result"
    }
   ],
   "source": [
    "df[df['is_fraud']==1].count()"
   ]
  },
  {
   "cell_type": "code",
   "execution_count": 9,
   "id": "839397ec",
   "metadata": {
    "execution": {
     "iopub.execute_input": "2024-02-05T10:42:06.892016Z",
     "iopub.status.busy": "2024-02-05T10:42:06.891594Z",
     "iopub.status.idle": "2024-02-05T10:42:07.086909Z",
     "shell.execute_reply": "2024-02-05T10:42:07.085647Z"
    },
    "papermill": {
     "duration": 0.204067,
     "end_time": "2024-02-05T10:42:07.089022",
     "exception": false,
     "start_time": "2024-02-05T10:42:06.884955",
     "status": "completed"
    },
    "tags": []
   },
   "outputs": [
    {
     "data": {
      "image/png": "[encoded data removed]",
      "text/plain": [
       "<Figure size 800x800 with 1 Axes>"
      ]
     },
     "metadata": {},
     "output_type": "display_data"
    }
   ],
   "source": [
    "fraud_counts = df[\"is_fraud\"].value_counts()\n",
    "plt.figure(figsize=(8, 8))\n",
    "plt.subplot(1, 1, 1)  \n",
    "plt.pie(fraud_counts, labels=[\"No\", \"Yes\"], autopct=\"%0.0f%%\", colors=[ 'violet', 'blue'])\n",
    "plt.title(\"fraud Counts\")\n",
    "plt.tight_layout() \n",
    "plt.show()"
   ]
  },
  {
   "cell_type": "code",
   "execution_count": 10,
   "id": "d7ebfa9d",
   "metadata": {
    "execution": {
     "iopub.execute_input": "2024-02-05T10:42:07.102508Z",
     "iopub.status.busy": "2024-02-05T10:42:07.102210Z",
     "iopub.status.idle": "2024-02-05T10:42:07.157332Z",
     "shell.execute_reply": "2024-02-05T10:42:07.156639Z"
    },
    "papermill": {
     "duration": 0.064557,
     "end_time": "2024-02-05T10:42:07.159160",
     "exception": false,
     "start_time": "2024-02-05T10:42:07.094603",
     "status": "completed"
    },
    "tags": []
   },
   "outputs": [
    {
     "data": {
      "text/plain": [
       "gender\n",
       "F    709863\n",
       "M    586812\n",
       "Name: count, dtype: int64"
      ]
     },
     "execution_count": 10,
     "metadata": {},
     "output_type": "execute_result"
    }
   ],
   "source": [
    "a=df['gender'].value_counts()\n",
    "a"
   ]
  },
  {
   "cell_type": "code",
   "execution_count": 11,
   "id": "e5b11a23",
   "metadata": {
    "execution": {
     "iopub.execute_input": "2024-02-05T10:42:07.172021Z",
     "iopub.status.busy": "2024-02-05T10:42:07.171625Z",
     "iopub.status.idle": "2024-02-05T10:42:07.197837Z",
     "shell.execute_reply": "2024-02-05T10:42:07.196809Z"
    },
    "papermill": {
     "duration": 0.034985,
     "end_time": "2024-02-05T10:42:07.199686",
     "exception": false,
     "start_time": "2024-02-05T10:42:07.164701",
     "status": "completed"
    },
    "tags": []
   },
   "outputs": [
    {
     "data": {
      "text/plain": [
       "3771"
      ]
     },
     "execution_count": 11,
     "metadata": {},
     "output_type": "execute_result"
    }
   ],
   "source": [
    "fraudulent_data = df[df['is_fraud'] > 0]\n",
    "female_fraudulent_data=fraudulent_data[fraudulent_data['gender']=='F']\n",
    "\n",
    "male_fraudulent_data=fraudulent_data[fraudulent_data['gender']=='M']\n",
    "female_fraudulent_count=(female_fraudulent_data.shape[0])\n",
    "male_fraudulent_count=(male_fraudulent_data.shape[0])\n",
    "male_fraudulent_count"
   ]
  },
  {
   "cell_type": "code",
   "execution_count": 12,
   "id": "c4f2256f",
   "metadata": {
    "execution": {
     "iopub.execute_input": "2024-02-05T10:42:07.212553Z",
     "iopub.status.busy": "2024-02-05T10:42:07.212227Z",
     "iopub.status.idle": "2024-02-05T10:42:07.312248Z",
     "shell.execute_reply": "2024-02-05T10:42:07.310891Z"
    },
    "papermill": {
     "duration": 0.109138,
     "end_time": "2024-02-05T10:42:07.314622",
     "exception": false,
     "start_time": "2024-02-05T10:42:07.205484",
     "status": "completed"
    },
    "tags": []
   },
   "outputs": [
    {
     "data": {
      "text/plain": [
       "<function matplotlib.pyplot.show(close=None, block=None)>"
      ]
     },
     "execution_count": 12,
     "metadata": {},
     "output_type": "execute_result"
    },
    {
     "data": {
      "image/png": "[encoded data removed]",
      "text/plain": [
       "<Figure size 640x480 with 1 Axes>"
      ]
     },
     "metadata": {},
     "output_type": "display_data"
    }
   ],
   "source": [
    "plt.pie(a,labels=[\"Female\",\"Male\"],autopct=\"%0.0f%%\")\n",
    "plt.title(\"Gender_Count\")\n",
    "plt.show"
   ]
  },
  {
   "cell_type": "code",
   "execution_count": 13,
   "id": "f5d1ec9a",
   "metadata": {
    "execution": {
     "iopub.execute_input": "2024-02-05T10:42:07.328517Z",
     "iopub.status.busy": "2024-02-05T10:42:07.328164Z",
     "iopub.status.idle": "2024-02-05T10:42:07.528211Z",
     "shell.execute_reply": "2024-02-05T10:42:07.526606Z"
    },
    "papermill": {
     "duration": 0.209853,
     "end_time": "2024-02-05T10:42:07.530694",
     "exception": false,
     "start_time": "2024-02-05T10:42:07.320841",
     "status": "completed"
    },
    "tags": []
   },
   "outputs": [
    {
     "data": {
      "image/png": "[encoded data removed]",
      "text/plain": [
       "<Figure size 1000x500 with 2 Axes>"
      ]
     },
     "metadata": {},
     "output_type": "display_data"
    }
   ],
   "source": [
    "male_not_fraud = a['M'] - male_fraudulent_count\n",
    "female_not_fraud = a['F'] - female_fraudulent_count\n",
    "\n",
    "# Tạo dữ liệu cho biểu đồ tròn thứ nhất\n",
    "fraud_labels = ['Male', 'Female']\n",
    "fraud_sizes = [male_fraudulent_count, female_fraudulent_count]\n",
    "\n",
    "# Tạo dữ liệu cho biểu đồ tròn thứ hai\n",
    "not_fraud_labels = ['Male', 'Female']\n",
    "not_fraud_sizes = [male_not_fraud, female_not_fraud]\n",
    "\n",
    "# Vẽ biểu đồ tròn thứ nhất (fraud)\n",
    "plt.figure(figsize=(10, 5))\n",
    "plt.subplot(1, 2, 1)\n",
    "plt.pie(fraud_sizes, labels=fraud_labels, autopct='%0.1f%%', colors=[ 'red', 'blue'])\n",
    "plt.title('Fraud Distribution by Gender')\n",
    "\n",
    "# Vẽ biểu đồ tròn thứ hai (not fraud)\n",
    "plt.subplot(1, 2, 2)\n",
    "plt.pie(not_fraud_sizes, labels=not_fraud_labels, autopct='%0.1f%%', colors=['purple','green'])\n",
    "plt.title('Not Fraud Distribution by Gender')\n",
    "\n",
    "# Hiển thị biểu đồ\n",
    "plt.tight_layout()\n",
    "plt.show()"
   ]
  },
  {
   "cell_type": "code",
   "execution_count": 14,
   "id": "6070fb4b",
   "metadata": {
    "execution": {
     "iopub.execute_input": "2024-02-05T10:42:07.546659Z",
     "iopub.status.busy": "2024-02-05T10:42:07.546362Z",
     "iopub.status.idle": "2024-02-05T10:42:07.886700Z",
     "shell.execute_reply": "2024-02-05T10:42:07.884290Z"
    },
    "papermill": {
     "duration": 0.351931,
     "end_time": "2024-02-05T10:42:07.889507",
     "exception": false,
     "start_time": "2024-02-05T10:42:07.537576",
     "status": "completed"
    },
    "tags": []
   },
   "outputs": [
    {
     "name": "stdout",
     "output_type": "stream",
     "text": [
      "is_fraud      1.000000\n",
      "amt           0.219404\n",
      "unix_time     0.005078\n",
      "Unnamed: 0    0.004767\n",
      "zip           0.002162\n",
      "city_pop      0.002136\n",
      "lat           0.001894\n",
      "merch_lat     0.001741\n",
      "merch_long    0.001721\n",
      "long          0.001721\n",
      "cc_num        0.000981\n",
      "Name: is_fraud, dtype: float64\n"
     ]
    }
   ],
   "source": [
    "numeric_columns = df.select_dtypes(include='number')\n",
    "fraud_correlation = numeric_columns.corr()['is_fraud'].abs().sort_values(ascending=False)\n",
    "\n",
    "print(fraud_correlation)"
   ]
  },
  {
   "cell_type": "code",
   "execution_count": 15,
   "id": "10d33f4a",
   "metadata": {
    "execution": {
     "iopub.execute_input": "2024-02-05T10:42:07.905456Z",
     "iopub.status.busy": "2024-02-05T10:42:07.904916Z",
     "iopub.status.idle": "2024-02-05T10:42:21.767454Z",
     "shell.execute_reply": "2024-02-05T10:42:21.766610Z"
    },
    "papermill": {
     "duration": 13.873496,
     "end_time": "2024-02-05T10:42:21.770180",
     "exception": false,
     "start_time": "2024-02-05T10:42:07.896684",
     "status": "completed"
    },
    "tags": []
   },
   "outputs": [
    {
     "name": "stdout",
     "output_type": "stream",
     "text": [
      "Accuracy: 0.9959961779244546\n",
      "Confusion Matrix:\n",
      "[[553494     80]\n",
      " [  2145      0]]\n",
      "Classification Report:\n",
      "              precision    recall  f1-score   support\n",
      "\n",
      "           0       1.00      1.00      1.00    553574\n",
      "           1       0.00      0.00      0.00      2145\n",
      "\n",
      "    accuracy                           1.00    555719\n",
      "   macro avg       0.50      0.50      0.50    555719\n",
      "weighted avg       0.99      1.00      0.99    555719\n",
      "\n"
     ]
    }
   ],
   "source": [
    "train_data = pd.read_csv('/kaggle/input/credit-card-transactions/fraudTrain.csv')\n",
    "test_data = pd.read_csv('/kaggle/input/credit-card-transactions/fraudTest.csv')\n",
    "\n",
    "numeric_columns_train = train_data.select_dtypes(include='number')\n",
    "numeric_columns_test = test_data.select_dtypes(include='number')\n",
    "\n",
    "X_train = numeric_columns_train.drop(['is_fraud'], axis=1)\n",
    "y_train = train_data['is_fraud']\n",
    "\n",
    "X_test = numeric_columns_test.drop(['is_fraud'], axis=1)\n",
    "y_test = test_data['is_fraud']\n",
    "\n",
    "# Preprocess the data\n",
    "scaler = StandardScaler()\n",
    "X_train_scaled = scaler.fit_transform(X_train)\n",
    "X_test_scaled = scaler.transform(X_test)\n",
    "\n",
    "# Build and train the Logistic Regression model\n",
    "model = LogisticRegression(random_state=42)\n",
    "model.fit(X_train_scaled, y_train)\n",
    "\n",
    "# Make predictions on the test set\n",
    "y_pred = model.predict(X_test_scaled)\n",
    "\n",
    "# Evaluate the model\n",
    "accuracy = accuracy_score(y_test, y_pred)\n",
    "conf_matrix = confusion_matrix(y_test, y_pred)\n",
    "classification_rep = classification_report(y_test, y_pred)\n",
    "\n",
    "# Print the results\n",
    "print(f\"Accuracy: {accuracy}\")\n",
    "print(f\"Confusion Matrix:\\n{conf_matrix}\")\n",
    "print(f\"Classification Report:\\n{classification_rep}\")\n"
   ]
  },
  {
   "cell_type": "code",
   "execution_count": null,
   "id": "aa845c0c",
   "metadata": {
    "papermill": {
     "duration": 0.006323,
     "end_time": "2024-02-05T10:42:21.783292",
     "exception": false,
     "start_time": "2024-02-05T10:42:21.776969",
     "status": "completed"
    },
    "tags": []
   },
   "outputs": [],
   "source": []
  },
  {
   "cell_type": "code",
   "execution_count": null,
   "id": "57c1abe1",
   "metadata": {
    "papermill": {
     "duration": 0.007078,
     "end_time": "2024-02-05T10:42:21.796843",
     "exception": false,
     "start_time": "2024-02-05T10:42:21.789765",
     "status": "completed"
    },
    "tags": []
   },
   "outputs": [],
   "source": []
  },
  {
   "cell_type": "code",
   "execution_count": null,
   "id": "d9b48d90",
   "metadata": {
    "papermill": {
     "duration": 0.006427,
     "end_time": "2024-02-05T10:42:21.810141",
     "exception": false,
     "start_time": "2024-02-05T10:42:21.803714",
     "status": "completed"
    },
    "tags": []
   },
   "outputs": [],
   "source": []
  }
 ],
 "metadata": {
  "kaggle": {
   "accelerator": "none",
   "dataSources": [
    {
     "datasetId": 4402239,
     "sourceId": 7560031,
     "sourceType": "datasetVersion"
    }
   ],
   "dockerImageVersionId": 30646,
   "isGpuEnabled": false,
   "isInternetEnabled": false,
   "language": "python",
   "sourceType": "notebook"
  },
  "kernelspec": {
   "display_name": "Python 3",
   "language": "python",
   "name": "python3"
  },
  "language_info": {
   "codemirror_mode": {
    "name": "ipython",
    "version": 3
   },
   "file_extension": ".py",
   "mimetype": "text/x-python",
   "name": "python",
   "nbconvert_exporter": "python",
   "pygments_lexer": "ipython3",
   "version": "3.10.13"
  },
  "papermill": {
   "default_parameters": {},
   "duration": 32.75011,
   "end_time": "2024-02-05T10:42:22.639436",
   "environment_variables": {},
   "exception": null,
   "input_path": "__notebook__.ipynb",
   "output_path": "__notebook__.ipynb",
   "parameters": {},
   "start_time": "2024-02-05T10:41:49.889326",
   "version": "2.5.0"
  }
 },
 "nbformat": 4,
 "nbformat_minor": 5
}

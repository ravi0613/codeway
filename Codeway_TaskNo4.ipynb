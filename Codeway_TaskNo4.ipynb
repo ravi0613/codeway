{
 "cells": [
  {
   "cell_type": "code",
   "execution_count": 1,
   "id": "093800d4",
   "metadata": {
    "_cell_guid": "b1076dfc-b9ad-4769-8c92-a6c4dae69d19",
    "_uuid": "8f2839f25d086af736a60e9eeb907d3b93b6e0e5",
    "execution": {
     "iopub.execute_input": "2024-02-07T07:33:04.289113Z",
     "iopub.status.busy": "2024-02-07T07:33:04.288345Z",
     "iopub.status.idle": "2024-02-07T07:33:05.334451Z",
     "shell.execute_reply": "2024-02-07T07:33:05.332926Z"
    },
    "papermill": {
     "duration": 1.060929,
     "end_time": "2024-02-07T07:33:05.337084",
     "exception": false,
     "start_time": "2024-02-07T07:33:04.276155",
     "status": "completed"
    },
    "tags": []
   },
   "outputs": [
    {
     "name": "stdout",
     "output_type": "stream",
     "text": [
      "/kaggle/input/sms-messages/spam.csv\n"
     ]
    }
   ],
   "source": [
    "# This Python 3 environment comes with many helpful analytics libraries installed\n",
    "# It is defined by the kaggle/python Docker image: https://github.com/kaggle/docker-python\n",
    "# For example, here's several helpful packages to load\n",
    "\n",
    "import numpy as np # linear algebra\n",
    "import pandas as pd # data processing, CSV file I/O (e.g. pd.read_csv)\n",
    "\n",
    "# Input data files are available in the read-only \"../input/\" directory\n",
    "# For example, running this (by clicking run or pressing Shift+Enter) will list all files under the input directory\n",
    "\n",
    "import os\n",
    "for dirname, _, filenames in os.walk('/kaggle/input'):\n",
    "    for filename in filenames:\n",
    "        print(os.path.join(dirname, filename))\n",
    "\n",
    "# You can write up to 20GB to the current directory (/kaggle/working/) that gets preserved as output when you create a version using \"Save & Run All\" \n",
    "# You can also write temporary files to /kaggle/temp/, but they won't be saved outside of the current session"
   ]
  },
  {
   "cell_type": "code",
   "execution_count": 2,
   "id": "dd5bf497",
   "metadata": {
    "execution": {
     "iopub.execute_input": "2024-02-07T07:33:05.358480Z",
     "iopub.status.busy": "2024-02-07T07:33:05.357378Z",
     "iopub.status.idle": "2024-02-07T07:33:07.342272Z",
     "shell.execute_reply": "2024-02-07T07:33:07.341278Z"
    },
    "papermill": {
     "duration": 1.998428,
     "end_time": "2024-02-07T07:33:07.345309",
     "exception": false,
     "start_time": "2024-02-07T07:33:05.346881",
     "status": "completed"
    },
    "tags": []
   },
   "outputs": [],
   "source": [
    "import matplotlib.pyplot as plt\n",
    "import seaborn as sns\n",
    "from sklearn.feature_extraction.text import CountVectorizer\n",
    "from sklearn.model_selection import train_test_split\n",
    "from sklearn.pipeline import Pipeline\n",
    "from sklearn.naive_bayes import MultinomialNB\n",
    "from sklearn.metrics import classification_report"
   ]
  },
  {
   "cell_type": "code",
   "execution_count": 3,
   "id": "9ac43a29",
   "metadata": {
    "execution": {
     "iopub.execute_input": "2024-02-07T07:33:07.371778Z",
     "iopub.status.busy": "2024-02-07T07:33:07.371390Z",
     "iopub.status.idle": "2024-02-07T07:33:07.445421Z",
     "shell.execute_reply": "2024-02-07T07:33:07.442807Z"
    },
    "papermill": {
     "duration": 0.088752,
     "end_time": "2024-02-07T07:33:07.448798",
     "exception": false,
     "start_time": "2024-02-07T07:33:07.360046",
     "status": "completed"
    },
    "tags": []
   },
   "outputs": [
    {
     "data": {
      "text/html": [
       "<div>\n",
       "<style scoped>\n",
       "    .dataframe tbody tr th:only-of-type {\n",
       "        vertical-align: middle;\n",
       "    }\n",
       "\n",
       "    .dataframe tbody tr th {\n",
       "        vertical-align: top;\n",
       "    }\n",
       "\n",
       "    .dataframe thead th {\n",
       "        text-align: right;\n",
       "    }\n",
       "</style>\n",
       "<table border=\"1\" class=\"dataframe\">\n",
       "  <thead>\n",
       "    <tr style=\"text-align: right;\">\n",
       "      <th></th>\n",
       "      <th>v1</th>\n",
       "      <th>v2</th>\n",
       "      <th>Unnamed: 2</th>\n",
       "      <th>Unnamed: 3</th>\n",
       "      <th>Unnamed: 4</th>\n",
       "    </tr>\n",
       "  </thead>\n",
       "  <tbody>\n",
       "    <tr>\n",
       "      <th>0</th>\n",
       "      <td>ham</td>\n",
       "      <td>Go until jurong point, crazy.. Available only ...</td>\n",
       "      <td>NaN</td>\n",
       "      <td>NaN</td>\n",
       "      <td>NaN</td>\n",
       "    </tr>\n",
       "    <tr>\n",
       "      <th>1</th>\n",
       "      <td>ham</td>\n",
       "      <td>Ok lar... Joking wif u oni...</td>\n",
       "      <td>NaN</td>\n",
       "      <td>NaN</td>\n",
       "      <td>NaN</td>\n",
       "    </tr>\n",
       "    <tr>\n",
       "      <th>2</th>\n",
       "      <td>spam</td>\n",
       "      <td>Free entry in 2 a wkly comp to win FA Cup fina...</td>\n",
       "      <td>NaN</td>\n",
       "      <td>NaN</td>\n",
       "      <td>NaN</td>\n",
       "    </tr>\n",
       "    <tr>\n",
       "      <th>3</th>\n",
       "      <td>ham</td>\n",
       "      <td>U dun say so early hor... U c already then say...</td>\n",
       "      <td>NaN</td>\n",
       "      <td>NaN</td>\n",
       "      <td>NaN</td>\n",
       "    </tr>\n",
       "    <tr>\n",
       "      <th>4</th>\n",
       "      <td>ham</td>\n",
       "      <td>Nah I don't think he goes to usf, he lives aro...</td>\n",
       "      <td>NaN</td>\n",
       "      <td>NaN</td>\n",
       "      <td>NaN</td>\n",
       "    </tr>\n",
       "    <tr>\n",
       "      <th>...</th>\n",
       "      <td>...</td>\n",
       "      <td>...</td>\n",
       "      <td>...</td>\n",
       "      <td>...</td>\n",
       "      <td>...</td>\n",
       "    </tr>\n",
       "    <tr>\n",
       "      <th>5567</th>\n",
       "      <td>spam</td>\n",
       "      <td>This is the 2nd time we have tried 2 contact u...</td>\n",
       "      <td>NaN</td>\n",
       "      <td>NaN</td>\n",
       "      <td>NaN</td>\n",
       "    </tr>\n",
       "    <tr>\n",
       "      <th>5568</th>\n",
       "      <td>ham</td>\n",
       "      <td>Will Ì_ b going to esplanade fr home?</td>\n",
       "      <td>NaN</td>\n",
       "      <td>NaN</td>\n",
       "      <td>NaN</td>\n",
       "    </tr>\n",
       "    <tr>\n",
       "      <th>5569</th>\n",
       "      <td>ham</td>\n",
       "      <td>Pity, * was in mood for that. So...any other s...</td>\n",
       "      <td>NaN</td>\n",
       "      <td>NaN</td>\n",
       "      <td>NaN</td>\n",
       "    </tr>\n",
       "    <tr>\n",
       "      <th>5570</th>\n",
       "      <td>ham</td>\n",
       "      <td>The guy did some bitching but I acted like i'd...</td>\n",
       "      <td>NaN</td>\n",
       "      <td>NaN</td>\n",
       "      <td>NaN</td>\n",
       "    </tr>\n",
       "    <tr>\n",
       "      <th>5571</th>\n",
       "      <td>ham</td>\n",
       "      <td>Rofl. Its true to its name</td>\n",
       "      <td>NaN</td>\n",
       "      <td>NaN</td>\n",
       "      <td>NaN</td>\n",
       "    </tr>\n",
       "  </tbody>\n",
       "</table>\n",
       "<p>5572 rows × 5 columns</p>\n",
       "</div>"
      ],
      "text/plain": [
       "        v1                                                 v2 Unnamed: 2  \\\n",
       "0      ham  Go until jurong point, crazy.. Available only ...        NaN   \n",
       "1      ham                      Ok lar... Joking wif u oni...        NaN   \n",
       "2     spam  Free entry in 2 a wkly comp to win FA Cup fina...        NaN   \n",
       "3      ham  U dun say so early hor... U c already then say...        NaN   \n",
       "4      ham  Nah I don't think he goes to usf, he lives aro...        NaN   \n",
       "...    ...                                                ...        ...   \n",
       "5567  spam  This is the 2nd time we have tried 2 contact u...        NaN   \n",
       "5568   ham              Will Ì_ b going to esplanade fr home?        NaN   \n",
       "5569   ham  Pity, * was in mood for that. So...any other s...        NaN   \n",
       "5570   ham  The guy did some bitching but I acted like i'd...        NaN   \n",
       "5571   ham                         Rofl. Its true to its name        NaN   \n",
       "\n",
       "     Unnamed: 3 Unnamed: 4  \n",
       "0           NaN        NaN  \n",
       "1           NaN        NaN  \n",
       "2           NaN        NaN  \n",
       "3           NaN        NaN  \n",
       "4           NaN        NaN  \n",
       "...         ...        ...  \n",
       "5567        NaN        NaN  \n",
       "5568        NaN        NaN  \n",
       "5569        NaN        NaN  \n",
       "5570        NaN        NaN  \n",
       "5571        NaN        NaN  \n",
       "\n",
       "[5572 rows x 5 columns]"
      ]
     },
     "execution_count": 3,
     "metadata": {},
     "output_type": "execute_result"
    }
   ],
   "source": [
    "df=pd.read_csv('/kaggle/input/sms-messages/spam.csv',encoding='latin1')\n",
    "df"
   ]
  },
  {
   "cell_type": "code",
   "execution_count": 4,
   "id": "6ca1b983",
   "metadata": {
    "execution": {
     "iopub.execute_input": "2024-02-07T07:33:07.475780Z",
     "iopub.status.busy": "2024-02-07T07:33:07.474798Z",
     "iopub.status.idle": "2024-02-07T07:33:07.492229Z",
     "shell.execute_reply": "2024-02-07T07:33:07.491051Z"
    },
    "papermill": {
     "duration": 0.033179,
     "end_time": "2024-02-07T07:33:07.494858",
     "exception": false,
     "start_time": "2024-02-07T07:33:07.461679",
     "status": "completed"
    },
    "tags": []
   },
   "outputs": [
    {
     "data": {
      "text/html": [
       "<div>\n",
       "<style scoped>\n",
       "    .dataframe tbody tr th:only-of-type {\n",
       "        vertical-align: middle;\n",
       "    }\n",
       "\n",
       "    .dataframe tbody tr th {\n",
       "        vertical-align: top;\n",
       "    }\n",
       "\n",
       "    .dataframe thead th {\n",
       "        text-align: right;\n",
       "    }\n",
       "</style>\n",
       "<table border=\"1\" class=\"dataframe\">\n",
       "  <thead>\n",
       "    <tr style=\"text-align: right;\">\n",
       "      <th></th>\n",
       "      <th>v1</th>\n",
       "      <th>v2</th>\n",
       "    </tr>\n",
       "  </thead>\n",
       "  <tbody>\n",
       "    <tr>\n",
       "      <th>0</th>\n",
       "      <td>ham</td>\n",
       "      <td>Go until jurong point, crazy.. Available only ...</td>\n",
       "    </tr>\n",
       "    <tr>\n",
       "      <th>1</th>\n",
       "      <td>ham</td>\n",
       "      <td>Ok lar... Joking wif u oni...</td>\n",
       "    </tr>\n",
       "    <tr>\n",
       "      <th>2</th>\n",
       "      <td>spam</td>\n",
       "      <td>Free entry in 2 a wkly comp to win FA Cup fina...</td>\n",
       "    </tr>\n",
       "    <tr>\n",
       "      <th>3</th>\n",
       "      <td>ham</td>\n",
       "      <td>U dun say so early hor... U c already then say...</td>\n",
       "    </tr>\n",
       "    <tr>\n",
       "      <th>4</th>\n",
       "      <td>ham</td>\n",
       "      <td>Nah I don't think he goes to usf, he lives aro...</td>\n",
       "    </tr>\n",
       "  </tbody>\n",
       "</table>\n",
       "</div>"
      ],
      "text/plain": [
       "     v1                                                 v2\n",
       "0   ham  Go until jurong point, crazy.. Available only ...\n",
       "1   ham                      Ok lar... Joking wif u oni...\n",
       "2  spam  Free entry in 2 a wkly comp to win FA Cup fina...\n",
       "3   ham  U dun say so early hor... U c already then say...\n",
       "4   ham  Nah I don't think he goes to usf, he lives aro..."
      ]
     },
     "execution_count": 4,
     "metadata": {},
     "output_type": "execute_result"
    }
   ],
   "source": [
    "df.drop(['Unnamed: 2', 'Unnamed: 3', 'Unnamed: 4'],axis=1,inplace=True)\n",
    "df.head() "
   ]
  },
  {
   "cell_type": "code",
   "execution_count": 5,
   "id": "3cf3b840",
   "metadata": {
    "execution": {
     "iopub.execute_input": "2024-02-07T07:33:07.516814Z",
     "iopub.status.busy": "2024-02-07T07:33:07.516394Z",
     "iopub.status.idle": "2024-02-07T07:33:07.522575Z",
     "shell.execute_reply": "2024-02-07T07:33:07.521357Z"
    },
    "papermill": {
     "duration": 0.02015,
     "end_time": "2024-02-07T07:33:07.525106",
     "exception": false,
     "start_time": "2024-02-07T07:33:07.504956",
     "status": "completed"
    },
    "tags": []
   },
   "outputs": [],
   "source": [
    "def preprocess(x):\n",
    "    if x==\"spam\":\n",
    "        return 1\n",
    "    return 0"
   ]
  },
  {
   "cell_type": "code",
   "execution_count": 6,
   "id": "625bce08",
   "metadata": {
    "execution": {
     "iopub.execute_input": "2024-02-07T07:33:07.550337Z",
     "iopub.status.busy": "2024-02-07T07:33:07.549150Z",
     "iopub.status.idle": "2024-02-07T07:33:07.564179Z",
     "shell.execute_reply": "2024-02-07T07:33:07.562972Z"
    },
    "papermill": {
     "duration": 0.03081,
     "end_time": "2024-02-07T07:33:07.567604",
     "exception": false,
     "start_time": "2024-02-07T07:33:07.536794",
     "status": "completed"
    },
    "tags": []
   },
   "outputs": [],
   "source": [
    "df['spam']=df['v1'].apply(preprocess)"
   ]
  },
  {
   "cell_type": "code",
   "execution_count": 7,
   "id": "97bde889",
   "metadata": {
    "execution": {
     "iopub.execute_input": "2024-02-07T07:33:07.590823Z",
     "iopub.status.busy": "2024-02-07T07:33:07.589769Z",
     "iopub.status.idle": "2024-02-07T07:33:07.604010Z",
     "shell.execute_reply": "2024-02-07T07:33:07.602902Z"
    },
    "papermill": {
     "duration": 0.028358,
     "end_time": "2024-02-07T07:33:07.606537",
     "exception": false,
     "start_time": "2024-02-07T07:33:07.578179",
     "status": "completed"
    },
    "tags": []
   },
   "outputs": [
    {
     "data": {
      "text/html": [
       "<div>\n",
       "<style scoped>\n",
       "    .dataframe tbody tr th:only-of-type {\n",
       "        vertical-align: middle;\n",
       "    }\n",
       "\n",
       "    .dataframe tbody tr th {\n",
       "        vertical-align: top;\n",
       "    }\n",
       "\n",
       "    .dataframe thead th {\n",
       "        text-align: right;\n",
       "    }\n",
       "</style>\n",
       "<table border=\"1\" class=\"dataframe\">\n",
       "  <thead>\n",
       "    <tr style=\"text-align: right;\">\n",
       "      <th></th>\n",
       "      <th>v1</th>\n",
       "      <th>v2</th>\n",
       "      <th>spam</th>\n",
       "    </tr>\n",
       "  </thead>\n",
       "  <tbody>\n",
       "    <tr>\n",
       "      <th>0</th>\n",
       "      <td>ham</td>\n",
       "      <td>Go until jurong point, crazy.. Available only ...</td>\n",
       "      <td>0</td>\n",
       "    </tr>\n",
       "    <tr>\n",
       "      <th>1</th>\n",
       "      <td>ham</td>\n",
       "      <td>Ok lar... Joking wif u oni...</td>\n",
       "      <td>0</td>\n",
       "    </tr>\n",
       "    <tr>\n",
       "      <th>2</th>\n",
       "      <td>spam</td>\n",
       "      <td>Free entry in 2 a wkly comp to win FA Cup fina...</td>\n",
       "      <td>1</td>\n",
       "    </tr>\n",
       "    <tr>\n",
       "      <th>3</th>\n",
       "      <td>ham</td>\n",
       "      <td>U dun say so early hor... U c already then say...</td>\n",
       "      <td>0</td>\n",
       "    </tr>\n",
       "    <tr>\n",
       "      <th>4</th>\n",
       "      <td>ham</td>\n",
       "      <td>Nah I don't think he goes to usf, he lives aro...</td>\n",
       "      <td>0</td>\n",
       "    </tr>\n",
       "  </tbody>\n",
       "</table>\n",
       "</div>"
      ],
      "text/plain": [
       "     v1                                                 v2  spam\n",
       "0   ham  Go until jurong point, crazy.. Available only ...     0\n",
       "1   ham                      Ok lar... Joking wif u oni...     0\n",
       "2  spam  Free entry in 2 a wkly comp to win FA Cup fina...     1\n",
       "3   ham  U dun say so early hor... U c already then say...     0\n",
       "4   ham  Nah I don't think he goes to usf, he lives aro...     0"
      ]
     },
     "execution_count": 7,
     "metadata": {},
     "output_type": "execute_result"
    }
   ],
   "source": [
    "df.head()"
   ]
  },
  {
   "cell_type": "code",
   "execution_count": 8,
   "id": "33a5a432",
   "metadata": {
    "execution": {
     "iopub.execute_input": "2024-02-07T07:33:07.631890Z",
     "iopub.status.busy": "2024-02-07T07:33:07.631113Z",
     "iopub.status.idle": "2024-02-07T07:33:07.649113Z",
     "shell.execute_reply": "2024-02-07T07:33:07.647869Z"
    },
    "papermill": {
     "duration": 0.032695,
     "end_time": "2024-02-07T07:33:07.651807",
     "exception": false,
     "start_time": "2024-02-07T07:33:07.619112",
     "status": "completed"
    },
    "tags": []
   },
   "outputs": [
    {
     "data": {
      "text/plain": [
       "spam\n",
       "0    4825\n",
       "1     747\n",
       "Name: count, dtype: int64"
      ]
     },
     "execution_count": 8,
     "metadata": {},
     "output_type": "execute_result"
    }
   ],
   "source": [
    "spam_count=df['spam'].value_counts()\n",
    "spam_count"
   ]
  },
  {
   "cell_type": "code",
   "execution_count": 9,
   "id": "caf750b6",
   "metadata": {
    "execution": {
     "iopub.execute_input": "2024-02-07T07:33:07.675397Z",
     "iopub.status.busy": "2024-02-07T07:33:07.674956Z",
     "iopub.status.idle": "2024-02-07T07:33:07.848875Z",
     "shell.execute_reply": "2024-02-07T07:33:07.847687Z"
    },
    "papermill": {
     "duration": 0.188292,
     "end_time": "2024-02-07T07:33:07.851668",
     "exception": false,
     "start_time": "2024-02-07T07:33:07.663376",
     "status": "completed"
    },
    "tags": []
   },
   "outputs": [
    {
     "data": {
      "text/plain": [
       "Text(0.5, 1.0, 'Spam ')"
      ]
     },
     "execution_count": 9,
     "metadata": {},
     "output_type": "execute_result"
    },
    {
     "data": {
      "image/png": "[encoded data removed]",
      "text/plain": [
       "<Figure size 640x480 with 1 Axes>"
      ]
     },
     "metadata": {},
     "output_type": "display_data"
    }
   ],
   "source": [
    "plt.subplot(1,1,1)\n",
    "plt.pie(spam_count,labels=[\"NO\",\"YES\"], autopct='%1.1f%%', startangle=140)\n",
    "plt.title(\"Spam \")"
   ]
  },
  {
   "cell_type": "code",
   "execution_count": 10,
   "id": "be278ff6",
   "metadata": {
    "execution": {
     "iopub.execute_input": "2024-02-07T07:33:07.874940Z",
     "iopub.status.busy": "2024-02-07T07:33:07.874114Z",
     "iopub.status.idle": "2024-02-07T07:33:28.595547Z",
     "shell.execute_reply": "2024-02-07T07:33:28.594284Z"
    },
    "papermill": {
     "duration": 20.736694,
     "end_time": "2024-02-07T07:33:28.598775",
     "exception": false,
     "start_time": "2024-02-07T07:33:07.862081",
     "status": "completed"
    },
    "tags": []
   },
   "outputs": [
    {
     "name": "stdout",
     "output_type": "stream",
     "text": [
      "[nltk_data] Error loading stopwords: <urlopen error [Errno -3]\n",
      "[nltk_data]     Temporary failure in name resolution>\n"
     ]
    }
   ],
   "source": [
    "import nltk\n",
    "nltk.download(\"stopwords\")\n",
    "from nltk.stem import PorterStemmer\n",
    "import string\n",
    "tokill=string.punctuation"
   ]
  },
  {
   "cell_type": "code",
   "execution_count": 11,
   "id": "1c1fdd54",
   "metadata": {
    "execution": {
     "iopub.execute_input": "2024-02-07T07:33:28.623442Z",
     "iopub.status.busy": "2024-02-07T07:33:28.622753Z",
     "iopub.status.idle": "2024-02-07T07:33:28.634996Z",
     "shell.execute_reply": "2024-02-07T07:33:28.633971Z"
    },
    "papermill": {
     "duration": 0.028183,
     "end_time": "2024-02-07T07:33:28.637639",
     "exception": false,
     "start_time": "2024-02-07T07:33:28.609456",
     "status": "completed"
    },
    "tags": []
   },
   "outputs": [],
   "source": [
    "from nltk.corpus import stopwords\n",
    "sw = stopwords.words('english')"
   ]
  },
  {
   "cell_type": "code",
   "execution_count": 12,
   "id": "93a085b1",
   "metadata": {
    "execution": {
     "iopub.execute_input": "2024-02-07T07:33:28.660857Z",
     "iopub.status.busy": "2024-02-07T07:33:28.660445Z",
     "iopub.status.idle": "2024-02-07T07:33:28.665530Z",
     "shell.execute_reply": "2024-02-07T07:33:28.664477Z"
    },
    "papermill": {
     "duration": 0.019545,
     "end_time": "2024-02-07T07:33:28.667904",
     "exception": false,
     "start_time": "2024-02-07T07:33:28.648359",
     "status": "completed"
    },
    "tags": []
   },
   "outputs": [],
   "source": [
    "ps=PorterStemmer()"
   ]
  },
  {
   "cell_type": "code",
   "execution_count": 13,
   "id": "9089e1d1",
   "metadata": {
    "execution": {
     "iopub.execute_input": "2024-02-07T07:33:28.692667Z",
     "iopub.status.busy": "2024-02-07T07:33:28.691177Z",
     "iopub.status.idle": "2024-02-07T07:33:28.699504Z",
     "shell.execute_reply": "2024-02-07T07:33:28.698337Z"
    },
    "papermill": {
     "duration": 0.023279,
     "end_time": "2024-02-07T07:33:28.702076",
     "exception": false,
     "start_time": "2024-02-07T07:33:28.678797",
     "status": "completed"
    },
    "tags": []
   },
   "outputs": [],
   "source": [
    "def data_cleaning(x):\n",
    "    wordlist=[]\n",
    "    for word in x.split():\n",
    "        word=word.lower()\n",
    "        if word not in sw:\n",
    "            letterlist=[]\n",
    "            for letter in word:\n",
    "                if letter not in tokill:\n",
    "                    letterlist.append(letter)\n",
    "            stemword=ps.stem(\"\".join(letterlist))\n",
    "            wordlist.append(stemword)\n",
    "    x=\" \".join(wordlist)\n",
    "    return x        "
   ]
  },
  {
   "cell_type": "code",
   "execution_count": 14,
   "id": "54817997",
   "metadata": {
    "execution": {
     "iopub.execute_input": "2024-02-07T07:33:28.726589Z",
     "iopub.status.busy": "2024-02-07T07:33:28.726150Z",
     "iopub.status.idle": "2024-02-07T07:33:30.887690Z",
     "shell.execute_reply": "2024-02-07T07:33:30.886365Z"
    },
    "papermill": {
     "duration": 2.177767,
     "end_time": "2024-02-07T07:33:30.890794",
     "exception": false,
     "start_time": "2024-02-07T07:33:28.713027",
     "status": "completed"
    },
    "tags": []
   },
   "outputs": [],
   "source": [
    "df[\"v2\"]=df[\"v2\"].apply(data_cleaning)"
   ]
  },
  {
   "cell_type": "code",
   "execution_count": 15,
   "id": "1613037f",
   "metadata": {
    "execution": {
     "iopub.execute_input": "2024-02-07T07:33:30.914162Z",
     "iopub.status.busy": "2024-02-07T07:33:30.913747Z",
     "iopub.status.idle": "2024-02-07T07:33:30.927725Z",
     "shell.execute_reply": "2024-02-07T07:33:30.926345Z"
    },
    "papermill": {
     "duration": 0.02857,
     "end_time": "2024-02-07T07:33:30.930217",
     "exception": false,
     "start_time": "2024-02-07T07:33:30.901647",
     "status": "completed"
    },
    "tags": []
   },
   "outputs": [
    {
     "data": {
      "text/html": [
       "<div>\n",
       "<style scoped>\n",
       "    .dataframe tbody tr th:only-of-type {\n",
       "        vertical-align: middle;\n",
       "    }\n",
       "\n",
       "    .dataframe tbody tr th {\n",
       "        vertical-align: top;\n",
       "    }\n",
       "\n",
       "    .dataframe thead th {\n",
       "        text-align: right;\n",
       "    }\n",
       "</style>\n",
       "<table border=\"1\" class=\"dataframe\">\n",
       "  <thead>\n",
       "    <tr style=\"text-align: right;\">\n",
       "      <th></th>\n",
       "      <th>v1</th>\n",
       "      <th>v2</th>\n",
       "      <th>spam</th>\n",
       "    </tr>\n",
       "  </thead>\n",
       "  <tbody>\n",
       "    <tr>\n",
       "      <th>0</th>\n",
       "      <td>ham</td>\n",
       "      <td>go jurong point crazi avail bugi n great world...</td>\n",
       "      <td>0</td>\n",
       "    </tr>\n",
       "    <tr>\n",
       "      <th>1</th>\n",
       "      <td>ham</td>\n",
       "      <td>ok lar joke wif u oni</td>\n",
       "      <td>0</td>\n",
       "    </tr>\n",
       "    <tr>\n",
       "      <th>2</th>\n",
       "      <td>spam</td>\n",
       "      <td>free entri 2 wkli comp win fa cup final tkt 21...</td>\n",
       "      <td>1</td>\n",
       "    </tr>\n",
       "    <tr>\n",
       "      <th>3</th>\n",
       "      <td>ham</td>\n",
       "      <td>u dun say earli hor u c alreadi say</td>\n",
       "      <td>0</td>\n",
       "    </tr>\n",
       "    <tr>\n",
       "      <th>4</th>\n",
       "      <td>ham</td>\n",
       "      <td>nah think goe usf live around though</td>\n",
       "      <td>0</td>\n",
       "    </tr>\n",
       "    <tr>\n",
       "      <th>...</th>\n",
       "      <td>...</td>\n",
       "      <td>...</td>\n",
       "      <td>...</td>\n",
       "    </tr>\n",
       "    <tr>\n",
       "      <th>5567</th>\n",
       "      <td>spam</td>\n",
       "      <td>2nd time tri 2 contact u u å£750 pound prize 2...</td>\n",
       "      <td>1</td>\n",
       "    </tr>\n",
       "    <tr>\n",
       "      <th>5568</th>\n",
       "      <td>ham</td>\n",
       "      <td>ì b go esplanad fr home</td>\n",
       "      <td>0</td>\n",
       "    </tr>\n",
       "    <tr>\n",
       "      <th>5569</th>\n",
       "      <td>ham</td>\n",
       "      <td>piti  mood that soani suggest</td>\n",
       "      <td>0</td>\n",
       "    </tr>\n",
       "    <tr>\n",
       "      <th>5570</th>\n",
       "      <td>ham</td>\n",
       "      <td>guy bitch act like id interest buy someth els ...</td>\n",
       "      <td>0</td>\n",
       "    </tr>\n",
       "    <tr>\n",
       "      <th>5571</th>\n",
       "      <td>ham</td>\n",
       "      <td>rofl true name</td>\n",
       "      <td>0</td>\n",
       "    </tr>\n",
       "  </tbody>\n",
       "</table>\n",
       "<p>5572 rows × 3 columns</p>\n",
       "</div>"
      ],
      "text/plain": [
       "        v1                                                 v2  spam\n",
       "0      ham  go jurong point crazi avail bugi n great world...     0\n",
       "1      ham                              ok lar joke wif u oni     0\n",
       "2     spam  free entri 2 wkli comp win fa cup final tkt 21...     1\n",
       "3      ham                u dun say earli hor u c alreadi say     0\n",
       "4      ham               nah think goe usf live around though     0\n",
       "...    ...                                                ...   ...\n",
       "5567  spam  2nd time tri 2 contact u u å£750 pound prize 2...     1\n",
       "5568   ham                            ì b go esplanad fr home     0\n",
       "5569   ham                      piti  mood that soani suggest     0\n",
       "5570   ham  guy bitch act like id interest buy someth els ...     0\n",
       "5571   ham                                     rofl true name     0\n",
       "\n",
       "[5572 rows x 3 columns]"
      ]
     },
     "execution_count": 15,
     "metadata": {},
     "output_type": "execute_result"
    }
   ],
   "source": [
    "df"
   ]
  },
  {
   "cell_type": "code",
   "execution_count": 16,
   "id": "3e20f852",
   "metadata": {
    "execution": {
     "iopub.execute_input": "2024-02-07T07:33:30.953796Z",
     "iopub.status.busy": "2024-02-07T07:33:30.953383Z",
     "iopub.status.idle": "2024-02-07T07:33:30.963251Z",
     "shell.execute_reply": "2024-02-07T07:33:30.962031Z"
    },
    "papermill": {
     "duration": 0.024799,
     "end_time": "2024-02-07T07:33:30.965961",
     "exception": false,
     "start_time": "2024-02-07T07:33:30.941162",
     "status": "completed"
    },
    "tags": []
   },
   "outputs": [],
   "source": [
    "from sklearn.model_selection import train_test_split\n",
    "xtrain,xtest,ytrain,ytest=train_test_split(df[\"v2\"],df[\"spam\"],test_size=0.3,random_state=42)"
   ]
  },
  {
   "cell_type": "code",
   "execution_count": 17,
   "id": "c974da12",
   "metadata": {
    "execution": {
     "iopub.execute_input": "2024-02-07T07:33:30.990418Z",
     "iopub.status.busy": "2024-02-07T07:33:30.989627Z",
     "iopub.status.idle": "2024-02-07T07:33:30.995337Z",
     "shell.execute_reply": "2024-02-07T07:33:30.994202Z"
    },
    "papermill": {
     "duration": 0.020653,
     "end_time": "2024-02-07T07:33:30.997708",
     "exception": false,
     "start_time": "2024-02-07T07:33:30.977055",
     "status": "completed"
    },
    "tags": []
   },
   "outputs": [],
   "source": [
    "from sklearn.feature_extraction.text import CountVectorizer\n",
    "from sklearn.feature_extraction.text import TfidfVectorizer"
   ]
  },
  {
   "cell_type": "code",
   "execution_count": 18,
   "id": "940e5cb5",
   "metadata": {
    "execution": {
     "iopub.execute_input": "2024-02-07T07:33:31.022109Z",
     "iopub.status.busy": "2024-02-07T07:33:31.021625Z",
     "iopub.status.idle": "2024-02-07T07:33:31.263117Z",
     "shell.execute_reply": "2024-02-07T07:33:31.261965Z"
    },
    "papermill": {
     "duration": 0.256941,
     "end_time": "2024-02-07T07:33:31.265823",
     "exception": false,
     "start_time": "2024-02-07T07:33:31.008882",
     "status": "completed"
    },
    "tags": []
   },
   "outputs": [],
   "source": [
    "tf=TfidfVectorizer()\n",
    "xtrainout=tf.fit_transform(xtrain).toarray()"
   ]
  },
  {
   "cell_type": "code",
   "execution_count": 19,
   "id": "25351484",
   "metadata": {
    "execution": {
     "iopub.execute_input": "2024-02-07T07:33:31.290547Z",
     "iopub.status.busy": "2024-02-07T07:33:31.289740Z",
     "iopub.status.idle": "2024-02-07T07:33:31.798731Z",
     "shell.execute_reply": "2024-02-07T07:33:31.797134Z"
    },
    "papermill": {
     "duration": 0.5268,
     "end_time": "2024-02-07T07:33:31.803712",
     "exception": false,
     "start_time": "2024-02-07T07:33:31.276912",
     "status": "completed"
    },
    "tags": []
   },
   "outputs": [
    {
     "data": {
      "text/html": [
       "<style>#sk-container-id-1 {color: black;background-color: white;}#sk-container-id-1 pre{padding: 0;}#sk-container-id-1 div.sk-toggleable {background-color: white;}#sk-container-id-1 label.sk-toggleable__label {cursor: pointer;display: block;width: 100%;margin-bottom: 0;padding: 0.3em;box-sizing: border-box;text-align: center;}#sk-container-id-1 label.sk-toggleable__label-arrow:before {content: \"▸\";float: left;margin-right: 0.25em;color: #696969;}#sk-container-id-1 label.sk-toggleable__label-arrow:hover:before {color: black;}#sk-container-id-1 div.sk-estimator:hover label.sk-toggleable__label-arrow:before {color: black;}#sk-container-id-1 div.sk-toggleable__content {max-height: 0;max-width: 0;overflow: hidden;text-align: left;background-color: #f0f8ff;}#sk-container-id-1 div.sk-toggleable__content pre {margin: 0.2em;color: black;border-radius: 0.25em;background-color: #f0f8ff;}#sk-container-id-1 input.sk-toggleable__control:checked~div.sk-toggleable__content {max-height: 200px;max-width: 100%;overflow: auto;}#sk-container-id-1 input.sk-toggleable__control:checked~label.sk-toggleable__label-arrow:before {content: \"▾\";}#sk-container-id-1 div.sk-estimator input.sk-toggleable__control:checked~label.sk-toggleable__label {background-color: #d4ebff;}#sk-container-id-1 div.sk-label input.sk-toggleable__control:checked~label.sk-toggleable__label {background-color: #d4ebff;}#sk-container-id-1 input.sk-hidden--visually {border: 0;clip: rect(1px 1px 1px 1px);clip: rect(1px, 1px, 1px, 1px);height: 1px;margin: -1px;overflow: hidden;padding: 0;position: absolute;width: 1px;}#sk-container-id-1 div.sk-estimator {font-family: monospace;background-color: #f0f8ff;border: 1px dotted black;border-radius: 0.25em;box-sizing: border-box;margin-bottom: 0.5em;}#sk-container-id-1 div.sk-estimator:hover {background-color: #d4ebff;}#sk-container-id-1 div.sk-parallel-item::after {content: \"\";width: 100%;border-bottom: 1px solid gray;flex-grow: 1;}#sk-container-id-1 div.sk-label:hover label.sk-toggleable__label {background-color: #d4ebff;}#sk-container-id-1 div.sk-serial::before {content: \"\";position: absolute;border-left: 1px solid gray;box-sizing: border-box;top: 0;bottom: 0;left: 50%;z-index: 0;}#sk-container-id-1 div.sk-serial {display: flex;flex-direction: column;align-items: center;background-color: white;padding-right: 0.2em;padding-left: 0.2em;position: relative;}#sk-container-id-1 div.sk-item {position: relative;z-index: 1;}#sk-container-id-1 div.sk-parallel {display: flex;align-items: stretch;justify-content: center;background-color: white;position: relative;}#sk-container-id-1 div.sk-item::before, #sk-container-id-1 div.sk-parallel-item::before {content: \"\";position: absolute;border-left: 1px solid gray;box-sizing: border-box;top: 0;bottom: 0;left: 50%;z-index: -1;}#sk-container-id-1 div.sk-parallel-item {display: flex;flex-direction: column;z-index: 1;position: relative;background-color: white;}#sk-container-id-1 div.sk-parallel-item:first-child::after {align-self: flex-end;width: 50%;}#sk-container-id-1 div.sk-parallel-item:last-child::after {align-self: flex-start;width: 50%;}#sk-container-id-1 div.sk-parallel-item:only-child::after {width: 0;}#sk-container-id-1 div.sk-dashed-wrapped {border: 1px dashed gray;margin: 0 0.4em 0.5em 0.4em;box-sizing: border-box;padding-bottom: 0.4em;background-color: white;}#sk-container-id-1 div.sk-label label {font-family: monospace;font-weight: bold;display: inline-block;line-height: 1.2em;}#sk-container-id-1 div.sk-label-container {text-align: center;}#sk-container-id-1 div.sk-container {/* jupyter's `normalize.less` sets `[hidden] { display: none; }` but bootstrap.min.css set `[hidden] { display: none !important; }` so we also need the `!important` here to be able to override the default hidden behavior on the sphinx rendered scikit-learn.org. See: https://github.com/scikit-learn/scikit-learn/issues/21755 */display: inline-block !important;position: relative;}#sk-container-id-1 div.sk-text-repr-fallback {display: none;}</style><div id=\"sk-container-id-1\" class=\"sk-top-container\"><div class=\"sk-text-repr-fallback\"><pre>LogisticRegression()</pre><b>In a Jupyter environment, please rerun this cell to show the HTML representation or trust the notebook. <br />On GitHub, the HTML representation is unable to render, please try loading this page with nbviewer.org.</b></div><div class=\"sk-container\" hidden><div class=\"sk-item\"><div class=\"sk-estimator sk-toggleable\"><input class=\"sk-toggleable__control sk-hidden--visually\" id=\"sk-estimator-id-1\" type=\"checkbox\" checked><label for=\"sk-estimator-id-1\" class=\"sk-toggleable__label sk-toggleable__label-arrow\">LogisticRegression</label><div class=\"sk-toggleable__content\"><pre>LogisticRegression()</pre></div></div></div></div></div>"
      ],
      "text/plain": [
       "LogisticRegression()"
      ]
     },
     "execution_count": 19,
     "metadata": {},
     "output_type": "execute_result"
    }
   ],
   "source": [
    "from sklearn.linear_model import LogisticRegression\n",
    "lr=LogisticRegression()\n",
    "lr.fit(xtrainout,ytrain)\n"
   ]
  },
  {
   "cell_type": "code",
   "execution_count": 20,
   "id": "09f9d042",
   "metadata": {
    "execution": {
     "iopub.execute_input": "2024-02-07T07:33:31.854232Z",
     "iopub.status.busy": "2024-02-07T07:33:31.853538Z",
     "iopub.status.idle": "2024-02-07T07:33:31.898021Z",
     "shell.execute_reply": "2024-02-07T07:33:31.896435Z"
    },
    "papermill": {
     "duration": 0.074503,
     "end_time": "2024-02-07T07:33:31.902282",
     "exception": false,
     "start_time": "2024-02-07T07:33:31.827779",
     "status": "completed"
    },
    "tags": []
   },
   "outputs": [
    {
     "data": {
      "text/plain": [
       "0.9638461538461538"
      ]
     },
     "execution_count": 20,
     "metadata": {},
     "output_type": "execute_result"
    }
   ],
   "source": [
    "lr.score(xtrainout,ytrain)"
   ]
  },
  {
   "cell_type": "code",
   "execution_count": 21,
   "id": "0fe85e3d",
   "metadata": {
    "execution": {
     "iopub.execute_input": "2024-02-07T07:33:31.953790Z",
     "iopub.status.busy": "2024-02-07T07:33:31.953097Z",
     "iopub.status.idle": "2024-02-07T07:33:32.018329Z",
     "shell.execute_reply": "2024-02-07T07:33:32.017364Z"
    },
    "papermill": {
     "duration": 0.094465,
     "end_time": "2024-02-07T07:33:32.020812",
     "exception": false,
     "start_time": "2024-02-07T07:33:31.926347",
     "status": "completed"
    },
    "tags": []
   },
   "outputs": [],
   "source": [
    "xtestout=tf.transform(xtest)"
   ]
  },
  {
   "cell_type": "code",
   "execution_count": 22,
   "id": "a87f4a8c",
   "metadata": {
    "execution": {
     "iopub.execute_input": "2024-02-07T07:33:32.045850Z",
     "iopub.status.busy": "2024-02-07T07:33:32.044866Z",
     "iopub.status.idle": "2024-02-07T07:33:32.053525Z",
     "shell.execute_reply": "2024-02-07T07:33:32.052568Z"
    },
    "papermill": {
     "duration": 0.023491,
     "end_time": "2024-02-07T07:33:32.055719",
     "exception": false,
     "start_time": "2024-02-07T07:33:32.032228",
     "status": "completed"
    },
    "tags": []
   },
   "outputs": [
    {
     "data": {
      "text/plain": [
       "0.9521531100478469"
      ]
     },
     "execution_count": 22,
     "metadata": {},
     "output_type": "execute_result"
    }
   ],
   "source": [
    "lr.score(xtestout,ytest)"
   ]
  },
  {
   "cell_type": "code",
   "execution_count": 23,
   "id": "907f0ccb",
   "metadata": {
    "execution": {
     "iopub.execute_input": "2024-02-07T07:33:32.081256Z",
     "iopub.status.busy": "2024-02-07T07:33:32.080431Z",
     "iopub.status.idle": "2024-02-07T07:33:32.088675Z",
     "shell.execute_reply": "2024-02-07T07:33:32.087211Z"
    },
    "papermill": {
     "duration": 0.023975,
     "end_time": "2024-02-07T07:33:32.091309",
     "exception": false,
     "start_time": "2024-02-07T07:33:32.067334",
     "status": "completed"
    },
    "tags": []
   },
   "outputs": [
    {
     "name": "stdout",
     "output_type": "stream",
     "text": [
      "0.9521531100478469\n"
     ]
    }
   ],
   "source": [
    "from sklearn.metrics import accuracy_score,classification_report\n",
    "pred=lr.predict(xtestout)\n",
    "print(accuracy_score(ytest,pred))\n"
   ]
  },
  {
   "cell_type": "code",
   "execution_count": 24,
   "id": "e581f3ad",
   "metadata": {
    "execution": {
     "iopub.execute_input": "2024-02-07T07:33:32.116995Z",
     "iopub.status.busy": "2024-02-07T07:33:32.116178Z",
     "iopub.status.idle": "2024-02-07T07:33:32.133565Z",
     "shell.execute_reply": "2024-02-07T07:33:32.132372Z"
    },
    "papermill": {
     "duration": 0.033188,
     "end_time": "2024-02-07T07:33:32.136130",
     "exception": false,
     "start_time": "2024-02-07T07:33:32.102942",
     "status": "completed"
    },
    "tags": []
   },
   "outputs": [
    {
     "name": "stdout",
     "output_type": "stream",
     "text": [
      "              precision    recall  f1-score   support\n",
      "\n",
      "           0       0.95      1.00      0.97      1453\n",
      "           1       0.97      0.65      0.78       219\n",
      "\n",
      "    accuracy                           0.95      1672\n",
      "   macro avg       0.96      0.83      0.88      1672\n",
      "weighted avg       0.95      0.95      0.95      1672\n",
      "\n"
     ]
    }
   ],
   "source": [
    "print(classification_report(ytest,pred))"
   ]
  },
  {
   "cell_type": "code",
   "execution_count": 25,
   "id": "16015dc9",
   "metadata": {
    "execution": {
     "iopub.execute_input": "2024-02-07T07:33:32.161248Z",
     "iopub.status.busy": "2024-02-07T07:33:32.160814Z",
     "iopub.status.idle": "2024-02-07T07:33:50.369596Z",
     "shell.execute_reply": "2024-02-07T07:33:50.368291Z"
    },
    "papermill": {
     "duration": 18.224337,
     "end_time": "2024-02-07T07:33:50.372110",
     "exception": false,
     "start_time": "2024-02-07T07:33:32.147773",
     "status": "completed"
    },
    "tags": []
   },
   "outputs": [
    {
     "name": "stdout",
     "output_type": "stream",
     "text": [
      "0.9754784688995215\n"
     ]
    }
   ],
   "source": [
    "from sklearn.ensemble import RandomForestClassifier\n",
    "rfc=RandomForestClassifier()\n",
    "rfc.fit(xtrainout,ytrain)\n",
    "pred=rfc.predict(xtestout)\n",
    "print(accuracy_score(ytest,pred))"
   ]
  },
  {
   "cell_type": "code",
   "execution_count": 26,
   "id": "653ea80c",
   "metadata": {
    "execution": {
     "iopub.execute_input": "2024-02-07T07:33:50.398090Z",
     "iopub.status.busy": "2024-02-07T07:33:50.397400Z",
     "iopub.status.idle": "2024-02-07T07:33:50.413824Z",
     "shell.execute_reply": "2024-02-07T07:33:50.412456Z"
    },
    "papermill": {
     "duration": 0.032266,
     "end_time": "2024-02-07T07:33:50.416422",
     "exception": false,
     "start_time": "2024-02-07T07:33:50.384156",
     "status": "completed"
    },
    "tags": []
   },
   "outputs": [
    {
     "name": "stdout",
     "output_type": "stream",
     "text": [
      "              precision    recall  f1-score   support\n",
      "\n",
      "           0       0.97      1.00      0.99      1453\n",
      "           1       1.00      0.81      0.90       219\n",
      "\n",
      "    accuracy                           0.98      1672\n",
      "   macro avg       0.99      0.91      0.94      1672\n",
      "weighted avg       0.98      0.98      0.97      1672\n",
      "\n"
     ]
    }
   ],
   "source": [
    "print(classification_report(ytest,pred))"
   ]
  }
 ],
 "metadata": {
  "kaggle": {
   "accelerator": "none",
   "dataSources": [
    {
     "datasetId": 4411662,
     "sourceId": 7578320,
     "sourceType": "datasetVersion"
    }
   ],
   "dockerImageVersionId": 30646,
   "isGpuEnabled": false,
   "isInternetEnabled": false,
   "language": "python",
   "sourceType": "notebook"
  },
  "kernelspec": {
   "display_name": "Python 3",
   "language": "python",
   "name": "python3"
  },
  "language_info": {
   "codemirror_mode": {
    "name": "ipython",
    "version": 3
   },
   "file_extension": ".py",
   "mimetype": "text/x-python",
   "name": "python",
   "nbconvert_exporter": "python",
   "pygments_lexer": "ipython3",
   "version": "3.10.13"
  },
  "papermill": {
   "default_parameters": {},
   "duration": 50.453934,
   "end_time": "2024-02-07T07:33:51.152044",
   "environment_variables": {},
   "exception": null,
   "input_path": "__notebook__.ipynb",
   "output_path": "__notebook__.ipynb",
   "parameters": {},
   "start_time": "2024-02-07T07:33:00.698110",
   "version": "2.5.0"
  }
 },
 "nbformat": 4,
 "nbformat_minor": 5
}
